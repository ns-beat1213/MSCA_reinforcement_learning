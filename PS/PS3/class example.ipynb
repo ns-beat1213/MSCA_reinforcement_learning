{
 "cells": [
  {
   "cell_type": "code",
   "execution_count": 1,
   "metadata": {},
   "outputs": [
    {
     "name": "stdout",
     "output_type": "stream",
     "text": [
      "[[ 6.         -3.        ]\n",
      " [ 7.5        -2.4       ]\n",
      " [ 8.55       -1.44      ]\n",
      " [ 9.555      -0.444     ]\n",
      " [10.5555      0.5556    ]\n",
      " [11.55555     1.55556   ]\n",
      " [12.555555    2.555556  ]\n",
      " [13.5555555   3.5555556 ]\n",
      " [14.55555555  4.55555556]\n",
      " [15.55555556  5.55555556]]\n"
     ]
    }
   ],
   "source": [
    "#basic method\n",
    "import numpy as np\n",
    "import pandas as pd\n",
    "\n",
    "T = 10\n",
    "Pmat = np.array([[0.5,0.5],[0.4, 0.6]],dtype=float) #transition matrix\n",
    "R = np.array([[9.0,3.0],[3.0,-7.0]],dtype=float) # reward matrix\n",
    "G = np.zeros((2,T),dtype=np.float64) # value function\n",
    "P = np.zeros((T,2,2),dtype=np.float64) # n-step probability matrix\n",
    "\n",
    "N,M = R.shape\n",
    "\n",
    "P[0] = Pmat\n",
    "\n",
    "q = np.zeros((N,1),dtype=np.float64) # temporary reward vector\n",
    "\n",
    "for i in range(0,N):\n",
    "    for j in range(0,N):\n",
    "        q[i] = q[i] + np.multiply(R[i,j],Pmat[i,j])\n",
    "\n",
    "for i in range(0,N):\n",
    "    G[i,0] = q[i]\n",
    "\n",
    "for t in range(1,T):\n",
    "    for i in range(0,N):\n",
    "        G[i,t] = G[i,t-1] + np.matmul(P[t-1,i,:],q)\n",
    "    P[t] = np.matmul(P[t-1],Pmat)\n",
    "\n",
    "print(G.T)"
   ]
  },
  {
   "cell_type": "code",
   "execution_count": 2,
   "metadata": {},
   "outputs": [
    {
     "name": "stdout",
     "output_type": "stream",
     "text": [
      "[[ 0.          0.        ]\n",
      " [ 6.         -3.        ]\n",
      " [ 7.5        -2.4       ]\n",
      " [ 8.55       -1.44      ]\n",
      " [ 9.555      -0.444     ]\n",
      " [10.5555      0.5556    ]\n",
      " [11.55555     1.55556   ]\n",
      " [12.555555    2.555556  ]\n",
      " [13.5555555   3.5555556 ]\n",
      " [14.55555555  4.55555556]]\n"
     ]
    }
   ],
   "source": [
    "# recursive method\n",
    "T = 10\n",
    "\n",
    "P = np.array([[0.5,0.5],[0.4, 0.6]],dtype=float)\n",
    "R = np.array([[9.0,3.0],[3.0,-7.0]],dtype=float)\n",
    "\n",
    "N,M = R.shape\n",
    "\n",
    "q = np.zeros((N,1),dtype=np.float64)\n",
    "for i in range(0,N):\n",
    "    for j in range(0,N):\n",
    "        q[i] += np.multiply(R[i,j],P[i,j])\n",
    "\n",
    "v = np.zeros((N,T),dtype=np.float64)\n",
    "\n",
    "for n in range(1,T):\n",
    "    for i in range(0,N):\n",
    "        v[i,n] = q[i] + np.matmul(P[i,:],v[:,n-1])\n",
    "\n",
    "print(v.T)"
   ]
  },
  {
   "cell_type": "code",
   "execution_count": 3,
   "metadata": {},
   "outputs": [],
   "source": [
    "import numpy as np\n",
    "import quantecon as qe\n",
    "\n",
    "# number of steps\n",
    "T = 10\n",
    "\n",
    "# number of simulations\n",
    "S= 5000\n",
    "\n",
    "# transition matrix\n",
    "P = np.zeros((2,2),dtype=float)\n",
    "P = np.array([[0.5,0.5],[0.4, 0.6]],dtype=float)\n",
    "# reward matrix\n",
    "RR = np.zeros((2,2),dtype=float)\n",
    "RR = np.array([[9.0,3.0],[3.0,-7.0]],dtype=float)\n",
    "# number of states\n",
    "N = P.shape[0]\n",
    "\n",
    "P_dist = np.zeros((N,N),dtype=np.float64)\n",
    "\n",
    "Rvec = np.zeros((S,T,N)) # simulation, time, state\n",
    "Yvec = np.zeros((S,T,N)) # simulation, time, state\n",
    "\n",
    "for i in range(N):\n",
    "    P_dist[i,:] = np.cumsum(P[i,:])\n",
    "\n",
    "for s in range(S):\n",
    "    for i in range(N):\n",
    "        y0 = i\n",
    "        for t in range(T):\n",
    "            y1 = qe.random.draw(P_dist[y0,:])\n",
    "            Rvec[s,t,i] = RR[y0,y1]\n",
    "            Yvec[s,t,i] = y1\n",
    "            y0 = y1\n",
    "\n",
    "Rsum = np.zeros((S,N))\n",
    "for s in range(S):\n",
    "        for i in range(N):\n",
    "                Rsum[s,i] = Rvec[s,:,i].sum()\n"
   ]
  }
 ],
 "metadata": {
  "kernelspec": {
   "display_name": "reinforcement-env",
   "language": "python",
   "name": "python3"
  },
  "language_info": {
   "codemirror_mode": {
    "name": "ipython",
    "version": 3
   },
   "file_extension": ".py",
   "mimetype": "text/x-python",
   "name": "python",
   "nbconvert_exporter": "python",
   "pygments_lexer": "ipython3",
   "version": "3.9.13"
  },
  "orig_nbformat": 4
 },
 "nbformat": 4,
 "nbformat_minor": 2
}
